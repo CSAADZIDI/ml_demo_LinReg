{
 "cells": [
  {
   "cell_type": "markdown",
   "id": "abfb7016",
   "metadata": {},
   "source": [
    "![Lille](img/lille.jpeg)"
   ]
  },
  {
   "cell_type": "markdown",
   "id": "1f41a977",
   "metadata": {},
   "source": [
    "# Avant-propos\n",
    "___"
   ]
  },
  {
   "cell_type": "markdown",
   "id": "fec376cb",
   "metadata": {},
   "source": [
    "Ce notebook utilise un petit jeu de données fictif, inspiré du marché immobilier lillois. Il a été créé pour apprendre pas à pas comment fonctionne la régression linéaire.\n",
    "\n",
    "L’idée est de prédire le prix d’un logement en fonction d'une information simple, sa surface. C’est un exemple facile à comprendre, parfait pour s’initier à la modélisation."
   ]
  },
  {
   "cell_type": "markdown",
   "id": "9ada26ac",
   "metadata": {},
   "source": [
    "# Introduction\n",
    "___"
   ]
  },
  {
   "cell_type": "markdown",
   "id": "04b01c2c",
   "metadata": {},
   "source": [
    "Nous allons découvrir comment le machine learning peut être utilisé pour **prédire une valeur numérique** à partir de données d’entrée. C’est ce qu’on appelle un problème de **régression**.\n",
    "\n",
    "Nous allons nous intéresser à un cas simple mais très concret :  \n",
    "\n",
    "`Prédire le prix d’un bien immobilier en fonction de sa surface.`\n",
    "\n",
    "Ce type de question est au cœur de nombreux usages du ML :\n",
    "- prédire un salaire selon l’expérience,\n",
    "- estimer la consommation d’énergie selon la taille d’un logement,\n",
    "- estimer la valeur d’un véhicule selon son kilométrage…\n",
    "\n",
    "Notre objectif n’est pas seulement d’obtenir une prédiction correcte, mais surtout de comprendre et expérimenter les étapes fondamentales d’un projet de **machine learning supervisé**.\n",
    "\n",
    "💡 Le machine learning (ML) n'est pas uniquement choisir un modèle, lui donner des données, et obtenir des prédictions.\n",
    "En réalité, un projet ML suit un processus rigoureux, avec plusieurs étapes interdépendantes. Ce processus n’est pas figé, mais il suit une logique que l’on retrouve dans tous les projets, quel que soit le type de données ou de modèle.\n",
    "\n",
    "Ce notebook présente un **pipeline** (démarche structurée), composée de plusieurs **étapes clés**, que l’on retrouve dans la majorité des projets de **machine learning supervisé**.\n",
    "\n",
    "| Étapes                        | Description                                                                                               |\n",
    "|-------------------------------| ----------------------------------------------------------------------------------------------------------|\n",
    "| 1 - Data Loading              | Chargement des données (CSV, base de données, API, etc.)                                                  |\n",
    "| 2 - Exploration               | Analyse des données : types, statistiques, corrélations, visualisations                                   |\n",
    "| 3 - Data preparation          | Suppression des doublons, traitement des valeurs manquantes, création de features (sur tout le dataset)   |\n",
    "| 4 - Train/Test Split          | Séparation des données pour évaluation (généralement 80/20 ou 70/30)                                      |\n",
    "| 5 - Preprocessing             | Encodage, standardisation, etc. (fit sur le train, puis transform sur le test)                            |\n",
    "| 6 - Model Training            | Entraînement du modèle sur les données d’entraînement                                                     |\n",
    "| 7 - Evaluation                | Mesure des performances : MAE, MSE, R², accuracy, confusion matrix, etc..                                 |"
   ]
  },
  {
   "cell_type": "markdown",
   "id": "7ce8e9da",
   "metadata": {},
   "source": [
    "# Import des bibliothèques\n",
    "___"
   ]
  },
  {
   "cell_type": "markdown",
   "id": "471c270b",
   "metadata": {},
   "source": [
    "On commence par importer toutes les bibliothèques dont nous allons avoir besoin dans ce projet.\n",
    "\n",
    "- **Pandas** : pour charger les données, les explorer et les modifier\n",
    "- **NumPy** : pour effectuer des calculs numériques, notamment sur les tableaux\n",
    "- **Matplotlib.pyplot** : pour créer des visualisations (nuages de points, courbes, histogrammes...)\n",
    "- **Scikit-learn (sklearn)** :\n",
    "  - `LinearRegression` : pour entraîner un modèle de régression linéaire\n",
    "  - `train_test_split` : pour séparer les données en jeu d'entraînement et de test\n",
    "  - `mean_squared_error`, `r2_score` : pour évaluer la performance du modèle\n",
    "  - `StandardScaler` : pour standardiser les données si nécessaire\n",
    "- **Joblib** : pour sauvegarder ou recharger un modèle déjà entraîné"
   ]
  },
  {
   "cell_type": "code",
   "execution_count": 113,
   "id": "7a6ded98",
   "metadata": {
    "jupyter": {
     "is_executing": true
    }
   },
   "outputs": [],
   "source": [
    "import pandas as pd\n",
    "import numpy as np\n",
    "import matplotlib.pyplot as plt\n",
    "from sklearn.linear_model import LinearRegression\n",
    "from sklearn.model_selection import train_test_split\n",
    "from sklearn.metrics import mean_squared_error, r2_score\n",
    "from sklearn.preprocessing import StandardScaler\n",
    "import joblib"
   ]
  },
  {
   "cell_type": "markdown",
   "id": "57d7ebf4",
   "metadata": {},
   "source": [
    "# 1. 📚 Data loading\n",
    "___"
   ]
  },
  {
   "cell_type": "markdown",
   "id": "bde6fdbf",
   "metadata": {},
   "source": [
    "La première étape de tout projet de machine learning consiste à charger les données dans l’environnement de travail. Dans ce notebook, nous utilisons un fichier au format CSV. Pour cela, nous utilisons la fonction read_csv() fournie par la bibliothèque Pandas, qui permet de lire le fichier et de le transformer en **DataFrame**.\n",
    "\n",
    "💡 Les données peuvent provenir de nombreuses sources différentes : des fichiers **Excel** (.xlsx), des fichiers **JSON** (.json), des formats optimisés comme **Parquet** (.parquet), ou encore directement de **BDD** ou d’**API**."
   ]
  },
  {
   "cell_type": "code",
   "execution_count": 114,
   "id": "9686b3b4",
   "metadata": {},
   "outputs": [],
   "source": [
    "# Code\n",
    "df = pd.read_csv(\"data/lille_immobilier.csv\")"
   ]
  },
  {
   "cell_type": "markdown",
   "id": "0dda85f3",
   "metadata": {},
   "source": [
    "# 2. 🔍 Exploration\n",
    "___"
   ]
  },
  {
   "cell_type": "markdown",
   "id": "f5b62b84",
   "metadata": {},
   "source": [
    "### 2.1 Inspection rapide du dataset"
   ]
  },
  {
   "cell_type": "markdown",
   "id": "e4606e91",
   "metadata": {},
   "source": [
    "Une fois les données chargées, il est important de commencer par en examiner un **aperçu rapide** pour s’assurer que le fichier a bien été lu, que les colonnes sont correctement nommées et que les premières lignes ont du sens."
   ]
  },
  {
   "cell_type": "code",
   "execution_count": 115,
   "id": "c36314ee",
   "metadata": {},
   "outputs": [
    {
     "data": {
      "text/html": [
       "<div>\n",
       "<style scoped>\n",
       "    .dataframe tbody tr th:only-of-type {\n",
       "        vertical-align: middle;\n",
       "    }\n",
       "\n",
       "    .dataframe tbody tr th {\n",
       "        vertical-align: top;\n",
       "    }\n",
       "\n",
       "    .dataframe thead th {\n",
       "        text-align: right;\n",
       "    }\n",
       "</style>\n",
       "<table border=\"1\" class=\"dataframe\">\n",
       "  <thead>\n",
       "    <tr style=\"text-align: right;\">\n",
       "      <th></th>\n",
       "      <th>surface_m2</th>\n",
       "      <th>prix_euros</th>\n",
       "    </tr>\n",
       "  </thead>\n",
       "  <tbody>\n",
       "    <tr>\n",
       "      <th>0</th>\n",
       "      <td>57.5</td>\n",
       "      <td>180300</td>\n",
       "    </tr>\n",
       "    <tr>\n",
       "      <th>1</th>\n",
       "      <td>115.1</td>\n",
       "      <td>326100</td>\n",
       "    </tr>\n",
       "    <tr>\n",
       "      <th>2</th>\n",
       "      <td>93.2</td>\n",
       "      <td>296000</td>\n",
       "    </tr>\n",
       "    <tr>\n",
       "      <th>3</th>\n",
       "      <td>79.9</td>\n",
       "      <td>257400</td>\n",
       "    </tr>\n",
       "    <tr>\n",
       "      <th>4</th>\n",
       "      <td>35.6</td>\n",
       "      <td>114300</td>\n",
       "    </tr>\n",
       "  </tbody>\n",
       "</table>\n",
       "</div>"
      ],
      "text/plain": [
       "   surface_m2  prix_euros\n",
       "0        57.5      180300\n",
       "1       115.1      326100\n",
       "2        93.2      296000\n",
       "3        79.9      257400\n",
       "4        35.6      114300"
      ]
     },
     "execution_count": 115,
     "metadata": {},
     "output_type": "execute_result"
    }
   ],
   "source": [
    "# Code\n",
    "df.head()"
   ]
  },
  {
   "cell_type": "markdown",
   "id": "6d8b1eb5",
   "metadata": {},
   "source": [
    "Nous utilisons ensuite `df.info()` pour obtenir un résumé de la structure du DataFrame.  \n",
    "Cette commande permet de vérifier :\n",
    "- le nombre de lignes\n",
    "- le type de chaque colonne (entier, flottant, objet, etc.)\n",
    "- et de repérer la présence de valeurs manquantes."
   ]
  },
  {
   "cell_type": "code",
   "execution_count": 116,
   "id": "eedccbf2",
   "metadata": {},
   "outputs": [
    {
     "name": "stdout",
     "output_type": "stream",
     "text": [
      "<class 'pandas.core.frame.DataFrame'>\n",
      "RangeIndex: 1000 entries, 0 to 999\n",
      "Data columns (total 2 columns):\n",
      " #   Column      Non-Null Count  Dtype  \n",
      "---  ------      --------------  -----  \n",
      " 0   surface_m2  1000 non-null   float64\n",
      " 1   prix_euros  1000 non-null   int64  \n",
      "dtypes: float64(1), int64(1)\n",
      "memory usage: 15.8 KB\n"
     ]
    }
   ],
   "source": [
    "# Code\n",
    "df.info()"
   ]
  },
  {
   "cell_type": "markdown",
   "id": "212b79c1",
   "metadata": {},
   "source": [
    "Nous utilisons ensuite `df.describe()` pour obtenir un résumé statistique des variables numériques.  \n",
    "\n",
    "Cette étape nous permet de mieux comprendre la structure des données : \n",
    "- on regarde les ordres de grandeur\n",
    "- les valeurs typiques (comme la moyenne ou la médiane)\n",
    "- on repère les éventuelles anomalies (comme des minimums ou maximums anormalement élevés).  \n",
    "\n",
    "C’est une façon rapide de valider la cohérence globale du jeu de données avant d’aller plus loin."
   ]
  },
  {
   "cell_type": "code",
   "execution_count": 117,
   "id": "71cd9180",
   "metadata": {},
   "outputs": [
    {
     "data": {
      "text/html": [
       "<div>\n",
       "<style scoped>\n",
       "    .dataframe tbody tr th:only-of-type {\n",
       "        vertical-align: middle;\n",
       "    }\n",
       "\n",
       "    .dataframe tbody tr th {\n",
       "        vertical-align: top;\n",
       "    }\n",
       "\n",
       "    .dataframe thead th {\n",
       "        text-align: right;\n",
       "    }\n",
       "</style>\n",
       "<table border=\"1\" class=\"dataframe\">\n",
       "  <thead>\n",
       "    <tr style=\"text-align: right;\">\n",
       "      <th></th>\n",
       "      <th>surface_m2</th>\n",
       "      <th>prix_euros</th>\n",
       "    </tr>\n",
       "  </thead>\n",
       "  <tbody>\n",
       "    <tr>\n",
       "      <th>count</th>\n",
       "      <td>1000.000000</td>\n",
       "      <td>1000.000000</td>\n",
       "    </tr>\n",
       "    <tr>\n",
       "      <th>mean</th>\n",
       "      <td>69.024700</td>\n",
       "      <td>215191.500000</td>\n",
       "    </tr>\n",
       "    <tr>\n",
       "      <th>std</th>\n",
       "      <td>29.214099</td>\n",
       "      <td>91603.694656</td>\n",
       "    </tr>\n",
       "    <tr>\n",
       "      <th>min</th>\n",
       "      <td>20.500000</td>\n",
       "      <td>58900.000000</td>\n",
       "    </tr>\n",
       "    <tr>\n",
       "      <th>25%</th>\n",
       "      <td>43.575000</td>\n",
       "      <td>133325.000000</td>\n",
       "    </tr>\n",
       "    <tr>\n",
       "      <th>50%</th>\n",
       "      <td>69.650000</td>\n",
       "      <td>217650.000000</td>\n",
       "    </tr>\n",
       "    <tr>\n",
       "      <th>75%</th>\n",
       "      <td>94.425000</td>\n",
       "      <td>289850.000000</td>\n",
       "    </tr>\n",
       "    <tr>\n",
       "      <th>max</th>\n",
       "      <td>120.000000</td>\n",
       "      <td>412600.000000</td>\n",
       "    </tr>\n",
       "  </tbody>\n",
       "</table>\n",
       "</div>"
      ],
      "text/plain": [
       "        surface_m2     prix_euros\n",
       "count  1000.000000    1000.000000\n",
       "mean     69.024700  215191.500000\n",
       "std      29.214099   91603.694656\n",
       "min      20.500000   58900.000000\n",
       "25%      43.575000  133325.000000\n",
       "50%      69.650000  217650.000000\n",
       "75%      94.425000  289850.000000\n",
       "max     120.000000  412600.000000"
      ]
     },
     "execution_count": 117,
     "metadata": {},
     "output_type": "execute_result"
    }
   ],
   "source": [
    "# Code\n",
    "df.describe()"
   ]
  },
  {
   "cell_type": "markdown",
   "id": "b719d91e",
   "metadata": {},
   "source": [
    "### 2.2. Traitement des données manquantes"
   ]
  },
  {
   "cell_type": "markdown",
   "id": "0bc0491c",
   "metadata": {},
   "source": [
    "Pour traiter les valeurs manquantes nous devons choisir une stratégie adaptée : \n",
    "- soit les supprimer si elles sont peu nombreuses et non critiques (`.dropna()`)\n",
    "- soit les remplacer par une valeur par défaut (comme la moyenne ou la médiane), selon le contexte (`.filla()`)"
   ]
  },
  {
   "cell_type": "code",
   "execution_count": 118,
   "id": "440d922a",
   "metadata": {},
   "outputs": [
    {
     "data": {
      "text/plain": [
       "np.int64(0)"
      ]
     },
     "execution_count": 118,
     "metadata": {},
     "output_type": "execute_result"
    }
   ],
   "source": [
    "# Code\n",
    "df.isna().any().sum()"
   ]
  },
  {
   "cell_type": "markdown",
   "id": "8f73aed4",
   "metadata": {},
   "source": [
    "### 2.3. Anlayses univariées et bivariées"
   ]
  },
  {
   "cell_type": "markdown",
   "id": "f7e2bcf5",
   "metadata": {},
   "source": [
    "Maintenant que nous avons un aperçu général de notre dataset, nous allons passer à l’analyse exploratoire proprement dite  (EDA : **Exploratory Data Analysis**), en combinant des analyses **univariées** et **bivariées**.\n",
    "\n",
    "L’**analyse univariée** consiste à étudier **une variable à la fois**. Elle permet de :\n",
    "- **comprendre la distribution d’une variable**\n",
    "- **repérer des tendances**\n",
    "- **repérer des valeurs atypiques** (outliers)\n",
    "- **détecter des incohérences** (par exemple : pas de surface négative, prix trop faibles, etc.).\n",
    "\n",
    "L’**analyse bivariée**, quant à elle, vise à **explorer la relation entre deux variables**. Elle permet par exemple de :\n",
    "- visualiser l’**effet d’une variable** (comme la surface) sur une autre (comme le prix)\n",
    "- **identifier des corrélations ou des dépendances**"
   ]
  },
  {
   "cell_type": "markdown",
   "id": "84b72b3f",
   "metadata": {},
   "source": [
    "#### a. Surface des biens immobiliers"
   ]
  },
  {
   "cell_type": "markdown",
   "id": "aafca05e",
   "metadata": {},
   "source": [
    "Nous pouvons visualiser la variable `surface_m2` sous forme d’histogramme, ce qui nous permet de voir comment les biens sont répartis en fonction de leur surface."
   ]
  },
  {
   "cell_type": "code",
   "execution_count": 119,
   "id": "8f13c3ff",
   "metadata": {},
   "outputs": [
    {
     "data": {
      "image/png": "[encoded data removed]",
      "text/plain": [
       "<Figure size 640x480 with 1 Axes>"
      ]
     },
     "metadata": {},
     "output_type": "display_data"
    }
   ],
   "source": [
    "# Code\n",
    "plt.hist(df[\"surface_m2\"], bins = 30, edgecolor= 'white')\n",
    "plt.title(\"Distribution of surfaces\")\n",
    "plt.xlabel(\"surface m2\")\n",
    "plt.show()"
   ]
  },
  {
   "cell_type": "markdown",
   "id": "be4dde55",
   "metadata": {},
   "source": [
    "Après un histogramme qui montre la distribution globale, le boxplot nous donne une synthèse statistique visuelle : médiane, étendue, quartiles, et surtout les valeurs qui sortent du cadre.\n",
    "Les deux graphiques sont complémentaires, surtout quand on veut repérer rapidement d’éventuelles anomalies."
   ]
  },
  {
   "cell_type": "code",
   "execution_count": 120,
   "id": "b907baa0",
   "metadata": {},
   "outputs": [
    {
     "data": {
      "image/png": "[encoded data removed]",
      "text/plain": [
       "<Figure size 640x480 with 1 Axes>"
      ]
     },
     "metadata": {},
     "output_type": "display_data"
    }
   ],
   "source": [
    "# Code\n",
    "plt.boxplot(df[\"surface_m2\"])\n",
    "plt.title(\"Boxplot of surfaces\")\n",
    "plt.ylabel(\"surface m2\")\n",
    "plt.show()"
   ]
  },
  {
   "cell_type": "markdown",
   "id": "b14a5cf7",
   "metadata": {},
   "source": [
    "#### b. Prix des biens immobiliers"
   ]
  },
  {
   "cell_type": "markdown",
   "id": "dad68582",
   "metadata": {},
   "source": [
    "Nous visualisons ici la variable `prix_euros` à l’aide d’un histogramme, ce qui permet de comprendre comment les biens sont répartis selon leur prix."
   ]
  },
  {
   "cell_type": "code",
   "execution_count": 121,
   "id": "cb4fdd42",
   "metadata": {},
   "outputs": [
    {
     "data": {
      "image/png": "[encoded data removed]",
      "text/plain": [
       "<Figure size 640x480 with 1 Axes>"
      ]
     },
     "metadata": {},
     "output_type": "display_data"
    }
   ],
   "source": [
    "# Code\n",
    "plt.hist(df[\"prix_euros\"],bins= 30,edgecolor = 'white')\n",
    "plt.xlabel(\"price euro\")\n",
    "plt.show()"
   ]
  },
  {
   "cell_type": "code",
   "execution_count": 122,
   "id": "f11d05a7",
   "metadata": {},
   "outputs": [],
   "source": [
    "# Code"
   ]
  },
  {
   "cell_type": "markdown",
   "id": "92581486",
   "metadata": {},
   "source": [
    "#### c. Relation entre la surface et le prix des biens"
   ]
  },
  {
   "cell_type": "markdown",
   "id": "ebd9283f",
   "metadata": {},
   "source": [
    "Un **nuage de points (scatter plot)** permet de visualiser chaque bien comme une paire (surface, prix). Ce type de graphique permet de :\n",
    "- identifier des tendances générales\n",
    "- identifier des des groupements de données\n",
    "- identifier d’éventuelles relations linéaires\n",
    "\n",
    "Dans notre cas, on observe visuellement qu’une augmentation de la surface semble généralement associée à une augmentation du prix. \n",
    "\n",
    "⚠️ Il ne s’agit ici que d'une analyse bivariée visuelle. Ceci constitue une première étape avant d’évaluer plus formellement cette relation à l’aide d’un modèle ou d’un indicateur statistique."
   ]
  },
  {
   "cell_type": "code",
   "execution_count": 123,
   "id": "6a6489b3",
   "metadata": {},
   "outputs": [
    {
     "data": {
      "image/png": "[encoded data removed]",
      "text/plain": [
       "<Figure size 640x480 with 1 Axes>"
      ]
     },
     "metadata": {},
     "output_type": "display_data"
    }
   ],
   "source": [
    "# Code\n",
    "plt.scatter(df[\"surface_m2\"],df[\"prix_euros\"])\n",
    "plt.title(\"Relation between surface and price\")\n",
    "plt.xlabel(\"surface m2\")\n",
    "plt.ylabel(\"price\")\n",
    "plt.grid()\n",
    "plt.show()"
   ]
  },
  {
   "cell_type": "markdown",
   "id": "18c4ccf3",
   "metadata": {},
   "source": [
    "#### d. Correlations"
   ]
  },
  {
   "cell_type": "markdown",
   "id": "881f6054",
   "metadata": {},
   "source": [
    "Afin d’explorer les **relations linéaires** entre les variables de notre jeu de données, nous calculons la matrice de corrélation de Pearson. Cette méthode permet d’estimer dans quelle mesure deux variables numériques **varient ensemble**.\n",
    "\n",
    "La matrice ci-dessous met en évidence une corrélation très forte entre la surface en mètres carrés (surface_m2) et le prix en euros (prix_euros)."
   ]
  },
  {
   "cell_type": "code",
   "execution_count": 124,
   "id": "f67031cd",
   "metadata": {},
   "outputs": [
    {
     "name": "stdout",
     "output_type": "stream",
     "text": [
      " correlation surface/price 0.9871260852823446\n"
     ]
    }
   ],
   "source": [
    "# Code\n",
    "# df.corr()\n",
    "print( f\" correlation surface/price {df[\"surface_m2\"].corr(df[\"prix_euros\"])}\")"
   ]
  },
  {
   "cell_type": "markdown",
   "id": "a54f96cb",
   "metadata": {},
   "source": [
    "# 3. Data preparation\n",
    "___"
   ]
  },
  {
   "cell_type": "markdown",
   "id": "46b3c71e",
   "metadata": {},
   "source": [
    "### Détection des valeurs aberrantes (outliers)"
   ]
  },
  {
   "cell_type": "markdown",
   "id": "e8e7810f",
   "metadata": {},
   "source": [
    "Avant d’entraîner un modèle, il est important d’identifier les **valeurs aberrantes**, c’est-à-dire des données qui sont très éloignées des autres et qui pourraient **fausser les résultats**.\n",
    "\n",
    "Ici, nous utilisons une méthode simple et classique basée sur l’**écart interquartile (IQR)**."
   ]
  },
  {
   "cell_type": "code",
   "execution_count": 125,
   "id": "3c24eda6",
   "metadata": {},
   "outputs": [
    {
     "data": {
      "text/html": [
       "<div>\n",
       "<style scoped>\n",
       "    .dataframe tbody tr th:only-of-type {\n",
       "        vertical-align: middle;\n",
       "    }\n",
       "\n",
       "    .dataframe tbody tr th {\n",
       "        vertical-align: top;\n",
       "    }\n",
       "\n",
       "    .dataframe thead th {\n",
       "        text-align: right;\n",
       "    }\n",
       "</style>\n",
       "<table border=\"1\" class=\"dataframe\">\n",
       "  <thead>\n",
       "    <tr style=\"text-align: right;\">\n",
       "      <th></th>\n",
       "      <th>surface_m2</th>\n",
       "      <th>prix_euros</th>\n",
       "    </tr>\n",
       "  </thead>\n",
       "  <tbody>\n",
       "  </tbody>\n",
       "</table>\n",
       "</div>"
      ],
      "text/plain": [
       "Empty DataFrame\n",
       "Columns: [surface_m2, prix_euros]\n",
       "Index: []"
      ]
     },
     "execution_count": 125,
     "metadata": {},
     "output_type": "execute_result"
    }
   ],
   "source": [
    "# Code\n",
    "q1 = df[\"prix_euros\"].quantile(0.25)\n",
    "q3 = df[\"prix_euros\"].quantile(0.75)\n",
    "iqr = q3 - q1\n",
    "upper_bound = q3 + ( 1.5 * iqr)\n",
    "lower_bound = q1 - ( 1.5 * iqr)\n",
    "\n",
    "outliers = df[(df[\"prix_euros\"] < lower_bound) | (df[\"prix_euros\"] > upper_bound)]\n",
    "outliers\n"
   ]
  },
  {
   "cell_type": "code",
   "execution_count": 126,
   "id": "9be48a8f",
   "metadata": {},
   "outputs": [],
   "source": [
    "# Code\n",
    "def find_outliers( df: pd.DataFrame, column_name : str) -> pd.DataFrame:\n",
    "    q1 = df[column_name].quantile(0.25)\n",
    "    q3 = df[column_name].quantile(0.75)\n",
    "    iqr = q3 - q1\n",
    "    upper_bound = q3 + ( 1.5 * iqr)\n",
    "    lower_bound = q1 - ( 1.5 * iqr)\n",
    "\n",
    "    outliers = df[(df[column_name] < lower_bound) | (df[column_name] > upper_bound)]\n",
    "    return outliers\n",
    "    "
   ]
  },
  {
   "cell_type": "markdown",
   "id": "c78360ca",
   "metadata": {},
   "source": [
    "# 4. Train/Test split\n",
    "___"
   ]
  },
  {
   "cell_type": "markdown",
   "id": "159c745f",
   "metadata": {},
   "source": [
    "Avant d’entraîner notre modèle de régression, il est essentiel de séparer nos données en deux ensembles distincts :\n",
    "- un **ensemble d’entraînement** (**train set**), qui sera utilisé pour **ajuster le modèle**,\n",
    "- un **ensemble de test** (**test set**), qui servira à **évaluer les performances du modèle sur des données jamais vues**.\n",
    "\n",
    "Dans notre cas, nous avons choisi une répartition classique de 80 % pour l’entraînement et 20 % pour le test.\n",
    "Cette séparation permet de vérifier si notre modèle est capable de généraliser à de nouvelles données, et non simplement de mémoriser les exemples qu’il a vus."
   ]
  },
  {
   "cell_type": "code",
   "execution_count": 127,
   "id": "c682b237",
   "metadata": {},
   "outputs": [],
   "source": [
    "# Code\n",
    "X = df[\"surface_m2\"].values.reshape(-1,1)\n",
    "# X = df[[\"surface_m2\"]].values\n",
    "y = df[[\"prix_euros\"]].values\n",
    "X_train,  X_test, y_train, y_test = train_test_split(X,y,test_size = 0.2, random_state=42)"
   ]
  },
  {
   "cell_type": "markdown",
   "id": "b637ee99",
   "metadata": {},
   "source": [
    "# 5. Preprocessing\n",
    "___"
   ]
  },
  {
   "cell_type": "markdown",
   "id": "69ce5b63",
   "metadata": {},
   "source": [
    "Avant d’entraîner un modèle, il est important de **mettre toutes les variables à la même échelle**.  \n",
    "La standardisation consiste à transformer les données pour qu’elles aient une moyenne de 0 et un écart-type de 1.\n",
    "\n",
    "Cela permet au modèle d’apprendre plus efficacement, surtout quand les variables n’ont pas les mêmes unités (par exemple : surface en m², prix en euros).\n",
    "\n",
    "On utilise ici le `StandardScaler` pour **apprendre la moyenne et l’écart-type** sur les données d’entraînement, puis on applique cette transformation aux données d’entraînement et de test."
   ]
  },
  {
   "cell_type": "code",
   "execution_count": 128,
   "id": "f571d79a",
   "metadata": {},
   "outputs": [],
   "source": [
    "# Code\n",
    "scaler = StandardScaler()\n",
    "X_train_scaled = scaler.fit_transform(X_train)\n",
    "X_test_scaled = scaler.fit_transform(X_test)\n",
    "y_train_scaled = scaler.fit_transform(y_train)\n",
    "y_test_scaled = scaler.fit_transform(y_test)\n"
   ]
  },
  {
   "cell_type": "markdown",
   "id": "2392b9ea",
   "metadata": {},
   "source": [
    "# 6. Model training\n",
    "___"
   ]
  },
  {
   "cell_type": "markdown",
   "id": "ea80c1ab",
   "metadata": {},
   "source": [
    "### a. Apprentissage"
   ]
  },
  {
   "cell_type": "markdown",
   "id": "6066e7ed",
   "metadata": {},
   "source": [
    "Nous allons maintenant **entraîner** notre modèle de régression linéaire **à partir des données d’entraînement** préalablement standardisées.  \n",
    "Le modèle va apprendre la **relation** entre la surface du bien (`X_train_scaled`) et son prix (`y_train_scaled`) en ajustant une droite qui minimise l’erreur quadratique (**MSE**).\n",
    "\n",
    "Cette étape est essentielle : c’est ici que le modèle **apprend** à prédire en se basant sur les exemples fournis."
   ]
  },
  {
   "cell_type": "code",
   "execution_count": 129,
   "id": "84da51ec",
   "metadata": {},
   "outputs": [],
   "source": [
    "# Code\n",
    "model = LinearRegression()\n",
    "model.fit(X_train_scaled,y_train_scaled)\n",
    "y_pred = model.predict(X_test_scaled)"
   ]
  },
  {
   "cell_type": "markdown",
   "id": "48e2174b",
   "metadata": {},
   "source": [
    "### b. Visualisation du modèle entraîné"
   ]
  },
  {
   "cell_type": "code",
   "execution_count": 130,
   "id": "a1c38c88",
   "metadata": {},
   "outputs": [
    {
     "data": {
      "image/png": "[encoded data removed]",
      "text/plain": [
       "<Figure size 600x600 with 1 Axes>"
      ]
     },
     "metadata": {},
     "output_type": "display_data"
    }
   ],
   "source": [
    "# Code\n",
    "\n",
    "plt.figure(figsize=(6,6))\n",
    "plt.scatter(y_test_scaled, y_pred, alpha=0.6)\n",
    "#plt.plot([y_test.min(), y_test.max()], [y_test.min(), y_test.max()], 'r--')  # Ideal line\n",
    "plt.xlabel(\"Actual\")\n",
    "plt.ylabel(\"Predicted\")\n",
    "plt.title(\"Actual vs Predicted Values\")\n",
    "plt.show()\n"
   ]
  },
  {
   "cell_type": "markdown",
   "id": "da62e50e",
   "metadata": {},
   "source": [
    "# 7. Evaluation\n",
    "___"
   ]
  },
  {
   "cell_type": "markdown",
   "id": "628783fb",
   "metadata": {},
   "source": [
    "Après l’entraînement il est crucial d’évaluer le modèle sur un jeu de données qu’il n’a jamais vu : c’est ce qu’on appelle le **jeu de test**.  \n",
    "L’objectif est de mesurer sa performance c'est à dire sa **capacité du modèle à généraliser** ses prédictions à de nouvelles données réelles.\n",
    "On affiche ici :\n",
    "- la **MSE** (Mean Squared Error) : l’erreur quadratique moyenne entre les prédictions et les vraies valeurs\n",
    "- la **RMSE** (Root Mean Squared Error) : la racine carrée de la MSE, plus interprétable car dans la même unité que la variable cible\n",
    "- le **R² score** : appelé aussi **coefficient de détermination**, est un indicateur de performance compris entre 0 et 1, qui mesure la proportion de la variance expliquée par le modèle"
   ]
  },
  {
   "cell_type": "markdown",
   "id": "9acbc96c",
   "metadata": {},
   "source": [
    "### a. Scores"
   ]
  },
  {
   "cell_type": "code",
   "execution_count": 136,
   "id": "5908473f",
   "metadata": {},
   "outputs": [
    {
     "name": "stdout",
     "output_type": "stream",
     "text": [
      "mse 0.02021096639074649\n",
      "rmse 0.14216527842882906\n",
      "r2 0.9797890336092535\n"
     ]
    }
   ],
   "source": [
    "# Code\n",
    "mse = mean_squared_error(y_test_scaled,y_pred)\n",
    "print(\"mse\",mse)\n",
    "rmse = np.sqrt(mse)\n",
    "print(\"rmse\",rmse)\n",
    "r2 = r2_score(y_test_scaled,y_pred)\n",
    "print(\"r2\",r2)"
   ]
  },
  {
   "cell_type": "markdown",
   "id": "2f9ee40c",
   "metadata": {},
   "source": [
    "### b. Visualisation des prédictions"
   ]
  },
  {
   "cell_type": "code",
   "execution_count": 135,
   "id": "0b1bb3e5",
   "metadata": {},
   "outputs": [
    {
     "data": {
      "image/png": "[encoded data removed]",
      "text/plain": [
       "<Figure size 600x600 with 1 Axes>"
      ]
     },
     "metadata": {},
     "output_type": "display_data"
    }
   ],
   "source": [
    "# Code\n",
    "plt.figure(figsize=(6,6))\n",
    "plt.scatter(X_test_scaled, y_test_scaled, color=\"blue\", label=\"Actual\")\n",
    "plt.plot(X_test_scaled, y_pred, color=\"red\", linewidth=2, label=\"Predicted\")\n",
    "plt.xlabel(\"X\")\n",
    "plt.ylabel(\"y\")\n",
    "plt.grid()\n",
    "plt.show()\n"
   ]
  },
  {
   "cell_type": "markdown",
   "id": "57fa99c2",
   "metadata": {},
   "source": [
    "# 8. Sauvegarde du modèle et des standardiseurs (scalers)\n",
    "___"
   ]
  },
  {
   "cell_type": "markdown",
   "id": "15aaa976",
   "metadata": {},
   "source": [
    "Une fois notre modèle entraîné, il est important de le sauvegarder pour pouvoir le réutiliser plus tard, **sans devoir le réentraîner**.  \n",
    "Nous sauvegardons également les objets `StandardScaler` utilisés pour la standardisation, ⚠️ **car toute nouvelle donnée devra être transformée avec les mêmes paramètres (moyenne et écart-type) que ceux appris sur les données d’entraînement**.\n",
    "\n",
    "La sauvegarde se fait ici avec la bibliothèque `joblib`, qui permet de **sérialiser des objets Python** dans des fichiers .pkl."
   ]
  },
  {
   "cell_type": "code",
   "execution_count": 133,
   "id": "03e54f57",
   "metadata": {},
   "outputs": [
    {
     "data": {
      "text/plain": [
       "['linear_model_and_scaler.pkl']"
      ]
     },
     "execution_count": 133,
     "metadata": {},
     "output_type": "execute_result"
    }
   ],
   "source": [
    "# Code\n",
    "# Save model and scaler\n",
    "joblib.dump({'model': model, 'scaler': scaler}, 'linear_model_and_scaler.pkl')"
   ]
  },
  {
   "cell_type": "markdown",
   "id": "78c3ecc8",
   "metadata": {},
   "source": [
    "# Comment utiliser le modèle ?\n",
    "___"
   ]
  },
  {
   "cell_type": "code",
   "execution_count": 134,
   "id": "a352e514",
   "metadata": {},
   "outputs": [],
   "source": [
    "# Code\n",
    "# Load model and scaler\n",
    "loaded = joblib.load('linear_model_and_scaler.pkl')\n",
    "\n",
    "loaded_model = loaded['model']\n",
    "loaded_scaler = loaded['scaler']\n",
    "\n",
    "# Example usage\n",
    "#X_new_scaled = loaded_scaler.transform(X_new)\n",
    "#y_pred = loaded_model.predict(X_new_scaled)\n"
   ]
  }
 ],
 "metadata": {
  "kernelspec": {
   "display_name": ".venv",
   "language": "python",
   "name": "python3"
  },
  "language_info": {
   "codemirror_mode": {
    "name": "ipython",
    "version": 3
   },
   "file_extension": ".py",
   "mimetype": "text/x-python",
   "name": "python",
   "nbconvert_exporter": "python",
   "pygments_lexer": "ipython3",
   "version": "3.13.3"
  }
 },
 "nbformat": 4,
 "nbformat_minor": 5
}
